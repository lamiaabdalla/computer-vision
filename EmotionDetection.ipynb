{
  "nbformat": 4,
  "nbformat_minor": 0,
  "metadata": {
    "colab": {
      "provenance": []
    },
    "kernelspec": {
      "name": "python3",
      "display_name": "Python 3"
    },
    "language_info": {
      "name": "python"
    }
  },
  "cells": [
    {
      "cell_type": "code",
      "execution_count": null,
      "metadata": {
        "colab": {
          "base_uri": "https://localhost:8080/"
        },
        "id": "GrR4gqcsI9VD",
        "outputId": "2115034d-a425-47f8-b7b5-0d9eee68d220"
      },
      "outputs": [
        {
          "output_type": "stream",
          "name": "stdout",
          "text": [
            "Requirement already satisfied: kaggle in /usr/local/lib/python3.10/dist-packages (1.6.12)\n",
            "Requirement already satisfied: six>=1.10 in /usr/local/lib/python3.10/dist-packages (from kaggle) (1.16.0)\n",
            "Requirement already satisfied: certifi>=2023.7.22 in /usr/local/lib/python3.10/dist-packages (from kaggle) (2024.2.2)\n",
            "Requirement already satisfied: python-dateutil in /usr/local/lib/python3.10/dist-packages (from kaggle) (2.8.2)\n",
            "Requirement already satisfied: requests in /usr/local/lib/python3.10/dist-packages (from kaggle) (2.31.0)\n",
            "Requirement already satisfied: tqdm in /usr/local/lib/python3.10/dist-packages (from kaggle) (4.66.2)\n",
            "Requirement already satisfied: python-slugify in /usr/local/lib/python3.10/dist-packages (from kaggle) (8.0.4)\n",
            "Requirement already satisfied: urllib3 in /usr/local/lib/python3.10/dist-packages (from kaggle) (2.0.7)\n",
            "Requirement already satisfied: bleach in /usr/local/lib/python3.10/dist-packages (from kaggle) (6.1.0)\n",
            "Requirement already satisfied: webencodings in /usr/local/lib/python3.10/dist-packages (from bleach->kaggle) (0.5.1)\n",
            "Requirement already satisfied: text-unidecode>=1.3 in /usr/local/lib/python3.10/dist-packages (from python-slugify->kaggle) (1.3)\n",
            "Requirement already satisfied: charset-normalizer<4,>=2 in /usr/local/lib/python3.10/dist-packages (from requests->kaggle) (3.3.2)\n",
            "Requirement already satisfied: idna<4,>=2.5 in /usr/local/lib/python3.10/dist-packages (from requests->kaggle) (3.7)\n"
          ]
        }
      ],
      "source": [
        "!pip install kaggle"
      ]
    },
    {
      "cell_type": "code",
      "source": [
        "from google.colab import drive\n",
        "import os\n",
        "import zipfile\n",
        "\n",
        "# Mount Google Drive\n",
        "drive.mount('/content/drive')\n",
        "\n",
        "# Define paths\n",
        "zip_path = '/content/drive/MyDrive/datas.zip'\n",
        "extract_path = '/content/dataset/'\n",
        "\n",
        "# Extract dataset\n",
        "with zipfile.ZipFile(zip_path, 'r') as zip_ref:\n",
        "    zip_ref.extractall(extract_path)"
      ],
      "metadata": {
        "colab": {
          "base_uri": "https://localhost:8080/"
        },
        "id": "CITmyZp2Jwgy",
        "outputId": "07364ec3-5cfd-454d-cfca-a1b76f3a1c72"
      },
      "execution_count": 6,
      "outputs": [
        {
          "output_type": "stream",
          "name": "stdout",
          "text": [
            "Drive already mounted at /content/drive; to attempt to forcibly remount, call drive.mount(\"/content/drive\", force_remount=True).\n"
          ]
        }
      ]
    },
    {
      "cell_type": "code",
      "source": [
        "import cv2\n",
        "import numpy as np\n",
        "from sklearn.model_selection import train_test_split\n",
        "from sklearn.preprocessing import LabelEncoder\n",
        "from tensorflow.keras.utils import to_categorical\n",
        "\n",
        "def preprocess_data(data_path, image_size):\n",
        "    X = []\n",
        "    y = []\n",
        "\n",
        "    for label in os.listdir(data_path):\n",
        "        label_path = os.path.join(data_path, label)\n",
        "        for image_file in os.listdir(label_path):\n",
        "            image_path = os.path.join(label_path, image_file)\n",
        "            image = cv2.imread(image_path, cv2.IMREAD_GRAYSCALE)\n",
        "            image = cv2.resize(image, image_size)\n",
        "            X.append(image)\n",
        "            y.append(label)\n",
        "\n",
        "    X = np.array(X)\n",
        "    y = np.array(y)\n",
        "\n",
        "    # Encode labels\n",
        "    label_encoder = LabelEncoder()\n",
        "    y_encoded = label_encoder.fit_transform(y)\n",
        "    y_categorical = to_categorical(y_encoded)\n",
        "\n",
        "    return X, y_categorical\n",
        "\n",
        "# Define data paths\n",
        "train_data_path = '/content/dataset/train/'\n",
        "test_data_path = '/content/dataset/test/'\n",
        "\n",
        "# Preprocess train and test data\n",
        "image_size = (48, 48)\n",
        "X_train, y_train = preprocess_data(train_data_path, image_size)\n",
        "X_test, y_test = preprocess_data(test_data_path, image_size)\n",
        "\n",
        "# Normalize pixel values\n",
        "X_train = X_train.astype('float32') / 255.0\n",
        "X_test = X_test.astype('float32') / 255.0\n",
        "\n",
        "# Reshape data for CNN input\n",
        "X_train = np.expand_dims(X_train, axis=-1)\n",
        "X_test = np.expand_dims(X_test, axis=-1)\n"
      ],
      "metadata": {
        "id": "FNO-F0IDLY65"
      },
      "execution_count": 7,
      "outputs": []
    },
    {
      "cell_type": "code",
      "source": [],
      "metadata": {
        "id": "njlGHQaizWO0"
      },
      "execution_count": null,
      "outputs": []
    },
    {
      "cell_type": "code",
      "source": [],
      "metadata": {
        "id": "UzLuTr9Lle5R"
      },
      "execution_count": null,
      "outputs": []
    },
    {
      "cell_type": "code",
      "source": [
        "from tensorflow.keras.models import Sequential\n",
        "from tensorflow.keras.layers import Conv2D, MaxPooling2D, Flatten, Dense, Dropout\n",
        "\n",
        "# Define model architecture\n",
        "model = Sequential([\n",
        "    Conv2D(32, (3, 3), activation='relu', input_shape=(image_size[0], image_size[1], 1)),\n",
        "    MaxPooling2D((2, 2)),\n",
        "    Conv2D(64, (3, 3), activation='relu'),\n",
        "    MaxPooling2D((2, 2)),\n",
        "    Conv2D(128, (3, 3), activation='relu'),\n",
        "    MaxPooling2D((2, 2)),\n",
        "    Flatten(),\n",
        "    Dense(128, activation='relu'),\n",
        "    Dropout(0.5),\n",
        "    Dense(7, activation='softmax')\n",
        "])\n",
        "\n",
        "# Compile model\n",
        "model.compile(optimizer='adam',\n",
        "              loss='categorical_crossentropy',\n",
        "              metrics=['accuracy'])\n",
        "\n",
        "# Train model\n",
        "history = model.fit(X_train, y_train, epochs=20, batch_size=32, validation_data=(X_test, y_test))\n"
      ],
      "metadata": {
        "colab": {
          "base_uri": "https://localhost:8080/"
        },
        "id": "IKzXSoa6dKMn",
        "outputId": "c9d6f89a-2d48-4d53-d91c-eb904e678338"
      },
      "execution_count": 8,
      "outputs": [
        {
          "output_type": "stream",
          "name": "stdout",
          "text": [
            "Epoch 1/20\n",
            "898/898 [==============================] - 113s 122ms/step - loss: 1.7225 - accuracy: 0.3055 - val_loss: 1.5472 - val_accuracy: 0.4069\n",
            "Epoch 2/20\n",
            "898/898 [==============================] - 95s 106ms/step - loss: 1.4911 - accuracy: 0.4271 - val_loss: 1.3914 - val_accuracy: 0.4681\n",
            "Epoch 3/20\n",
            "898/898 [==============================] - 90s 100ms/step - loss: 1.3786 - accuracy: 0.4729 - val_loss: 1.2957 - val_accuracy: 0.5070\n",
            "Epoch 4/20\n",
            "898/898 [==============================] - 94s 105ms/step - loss: 1.3000 - accuracy: 0.5082 - val_loss: 1.2476 - val_accuracy: 0.5233\n",
            "Epoch 5/20\n",
            "898/898 [==============================] - 91s 101ms/step - loss: 1.2383 - accuracy: 0.5311 - val_loss: 1.2209 - val_accuracy: 0.5368\n",
            "Epoch 6/20\n",
            "898/898 [==============================] - 92s 102ms/step - loss: 1.1994 - accuracy: 0.5441 - val_loss: 1.2025 - val_accuracy: 0.5372\n",
            "Epoch 7/20\n",
            "898/898 [==============================] - 95s 106ms/step - loss: 1.1565 - accuracy: 0.5639 - val_loss: 1.1830 - val_accuracy: 0.5476\n",
            "Epoch 8/20\n",
            "898/898 [==============================] - 98s 109ms/step - loss: 1.1123 - accuracy: 0.5785 - val_loss: 1.1826 - val_accuracy: 0.5529\n",
            "Epoch 9/20\n",
            "898/898 [==============================] - 91s 102ms/step - loss: 1.0742 - accuracy: 0.5951 - val_loss: 1.1830 - val_accuracy: 0.5561\n",
            "Epoch 10/20\n",
            "898/898 [==============================] - 95s 106ms/step - loss: 1.0362 - accuracy: 0.6080 - val_loss: 1.1666 - val_accuracy: 0.5673\n",
            "Epoch 11/20\n",
            "898/898 [==============================] - 97s 108ms/step - loss: 1.0040 - accuracy: 0.6197 - val_loss: 1.1960 - val_accuracy: 0.5642\n",
            "Epoch 12/20\n",
            "898/898 [==============================] - 90s 100ms/step - loss: 0.9700 - accuracy: 0.6296 - val_loss: 1.1829 - val_accuracy: 0.5561\n",
            "Epoch 13/20\n",
            "898/898 [==============================] - 93s 104ms/step - loss: 0.9357 - accuracy: 0.6452 - val_loss: 1.1854 - val_accuracy: 0.5684\n",
            "Epoch 14/20\n",
            "898/898 [==============================] - 90s 100ms/step - loss: 0.9040 - accuracy: 0.6548 - val_loss: 1.2170 - val_accuracy: 0.5599\n",
            "Epoch 15/20\n",
            "898/898 [==============================] - 96s 107ms/step - loss: 0.8838 - accuracy: 0.6624 - val_loss: 1.2559 - val_accuracy: 0.5638\n",
            "Epoch 16/20\n",
            "898/898 [==============================] - 89s 99ms/step - loss: 0.8518 - accuracy: 0.6701 - val_loss: 1.2781 - val_accuracy: 0.5595\n",
            "Epoch 17/20\n",
            "898/898 [==============================] - 94s 104ms/step - loss: 0.8225 - accuracy: 0.6848 - val_loss: 1.3023 - val_accuracy: 0.5734\n",
            "Epoch 18/20\n",
            "898/898 [==============================] - 95s 105ms/step - loss: 0.7981 - accuracy: 0.6908 - val_loss: 1.3476 - val_accuracy: 0.5653\n",
            "Epoch 19/20\n",
            "898/898 [==============================] - 90s 100ms/step - loss: 0.7761 - accuracy: 0.7009 - val_loss: 1.3214 - val_accuracy: 0.5649\n",
            "Epoch 20/20\n",
            "898/898 [==============================] - 104s 116ms/step - loss: 0.7558 - accuracy: 0.7092 - val_loss: 1.3763 - val_accuracy: 0.5635\n"
          ]
        }
      ]
    },
    {
      "cell_type": "code",
      "source": [
        "import matplotlib.pyplot as plt\n",
        "\n",
        "# Plot training history\n",
        "plt.plot(history.history['accuracy'], label='accuracy')\n",
        "plt.plot(history.history['val_accuracy'], label = 'val_accuracy')\n",
        "plt.xlabel('Epoch')\n",
        "plt.ylabel('Accuracy')\n",
        "plt.ylim([0, 1])\n",
        "plt.legend(loc='lower right')\n",
        "plt.show()\n",
        "\n",
        "# Evaluate model on test set\n",
        "test_loss, test_accuracy = model.evaluate(X_test, y_test)\n",
        "print('Test Loss:', test_loss)\n",
        "print('Test Accuracy:', test_accuracy)"
      ],
      "metadata": {
        "colab": {
          "base_uri": "https://localhost:8080/",
          "height": 509
        },
        "id": "oUBt8InqdTY-",
        "outputId": "e9846f9b-18d4-4175-f2d8-4d287fb01108"
      },
      "execution_count": 9,
      "outputs": [
        {
          "output_type": "display_data",
          "data": {
            "text/plain": [
              "<Figure size 640x480 with 1 Axes>"
            ],
            "image/png": "[encoded data removed]"
          },
          "metadata": {}
        },
        {
          "output_type": "stream",
          "name": "stdout",
          "text": [
            "225/225 [==============================] - 5s 24ms/step - loss: 1.3763 - accuracy: 0.5635\n",
            "Test Loss: 1.3762884140014648\n",
            "Test Accuracy: 0.5635274648666382\n"
          ]
        }
      ]
    },
    {
      "cell_type": "code",
      "source": [
        "# Define model path\n",
        "import os\n",
        "current_directory = os.getcwd()\n",
        "model_path = os.path.join(current_directory, 'facial_expression_model')\n",
        "\n",
        "# Save the model\n",
        "model.save(model_path)"
      ],
      "metadata": {
        "id": "VedD8iDukIne"
      },
      "execution_count": 10,
      "outputs": []
    },
    {
      "cell_type": "code",
      "source": [
        "import cv2\n",
        "import numpy as np\n",
        "import os\n",
        "\n",
        "# Load pre-trained model\n",
        "import tensorflow as tf\n",
        "from tensorflow.keras.models import load_model\n",
        "\n",
        "# Define model path\n",
        "import os\n",
        "current_directory = os.getcwd()\n",
        "model_path = os.path.join(current_directory, 'facial_expression_model')\n",
        "\n",
        "# Load the model\n",
        "model = load_model(model_path)\n",
        "\n",
        "# Define emotion labels\n",
        "emotion_labels = ['Angry', 'Disgust', 'Fear', 'Happy', 'Sad', 'Surprise', 'Neutral']\n",
        "\n",
        "# Perform real-time facial expression recognition\n",
        "def predict_emotion(frame):\n",
        "    # Preprocess frame\n",
        "    frame_gray = cv2.cvtColor(frame, cv2.COLOR_BGR2GRAY)\n",
        "    frame_resized = cv2.resize(frame_gray, (48, 48))\n",
        "    frame_normalized = frame_resized.astype('float32') / 255.0\n",
        "    frame_input = np.expand_dims(frame_normalized, axis=0)\n",
        "    frame_input = np.expand_dims(frame_input, axis=-1)\n",
        "\n",
        "    # Perform emotion prediction using the loaded model\n",
        "    prediction = model.predict(frame_input)\n",
        "    predicted_class = np.argmax(prediction)\n",
        "    predicted_emotion = emotion_labels[predicted_class]\n",
        "\n",
        "    return predicted_emotion\n",
        "\n",
        "# Initialize video capture\n",
        "cap = cv2.VideoCapture(0)\n",
        "\n",
        "while True:\n",
        "    ret, frame = cap.read()\n",
        "    if not ret:\n",
        "        break\n",
        "\n",
        "    # Perform facial expression recognition\n",
        "    predicted_emotion = predict_emotion(frame)\n",
        "\n",
        "    # Display predicted emotion on frame\n",
        "    cv2.putText(frame, predicted_emotion, (50, 50), cv2.FONT_HERSHEY_SIMPLEX, 1, (0, 255, 0), 2)\n",
        "\n",
        "    # Display frame\n",
        "    cv2.imshow('Facial Expression Recognition', frame)\n",
        "\n",
        "    # Exit when 'q' is pressed\n",
        "    if cv2.waitKey(1) & 0xFF == ord('q'):\n",
        "        break\n",
        "\n",
        "# Release video capture and close OpenCV windows\n",
        "cap.release()\n",
        "cv2.destroyAllWindows()\n"
      ],
      "metadata": {
        "id": "GOWskfd2kIwC"
      },
      "execution_count": 13,
      "outputs": []
    }
  ]
}